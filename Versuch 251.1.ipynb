{
 "cells": [
  {
   "cell_type": "code",
   "execution_count": 39,
   "metadata": {
    "scrolled": true
   },
   "outputs": [
    {
     "data": {
      "text/plain": [
       "<matplotlib.legend.Legend at 0x92cbb38>"
      ]
     },
     "execution_count": 39,
     "metadata": {},
     "output_type": "execute_result"
    },
    {
     "data": {
      "image/png": "[encoded data removed]",
      "text/plain": [
       "<matplotlib.figure.Figure at 0x819fa58>"
      ]
     },
     "metadata": {},
     "output_type": "display_data"
    }
   ],
   "source": [
    "%matplotlib inline\n",
    "import matplotlib.pyplot as plt\n",
    "import numpy as np\n",
    "from scipy.optimize import curve_fit\n",
    "#Die Messdaten werden in Python importiert\n",
    "anzahl, haeufigkeit=np.loadtxt('C:/Users/admin/Desktop/Neuer Ordner/maxundilja.dat', unpack=True, skiprows=0, ndmin=2)\n",
    "fehler=np.sqrt(haeufigkeit)\n",
    "#Die Messdaten werden geplottet\n",
    "plt.errorbar(anzahl, haeufigkeit, fehler, fmt=\".\", color=\"black\")\n",
    "from numpy import exp, pi, sqrt\n",
    "#Die Gaußfunktion wird an die Messdaten angefittet und geplottet\n",
    "def gaussian(x,A,mu,sig): #A: Fläche der Gaussfuktion\n",
    "    return A/(sqrt(2*pi)*sig)*exp(-(x-mu)**2/2/sig**2)\n",
    "popt, pcov=curve_fit(gaussian,anzahl[7:-5], haeufigkeit[7:-5], p0=[2000,75,8], sigma=fehler[7:-5])\n",
    "x=np.linspace(40,100,500)\n",
    "plt.plot(x,gaussian(x,*popt), label='Gauss')\n",
    "#Die Poissonfunktion wird an die Messdate angefittet und geplottet\n",
    "from scipy.special import gamma\n",
    "def poisson(x, A_p, mu_p):\n",
    "    return A_p*exp(-mu_p)*mu_p**x/gamma(x+1)\n",
    "popt_p, pcov_p=curve_fit(poisson, anzahl[7:-5], haeufigkeit[7:-5], p0=[2000,75], sigma=fehler[7:-5])\n",
    "plt.xlabel('Anzahl der Zerfälle pro Zeiteiheit 1/s')\n",
    "plt.ylabel('Häufigkeit')\n",
    "plt.title('Statistik des radioaktiven Zerfalls')\n",
    "plt.plot(x, poisson(x, *popt_p), label='Poisson', color='r')\n",
    "plt.legend()\n"
   ]
  },
  {
   "cell_type": "code",
   "execution_count": 45,
   "metadata": {},
   "outputs": [
    {
     "name": "stdout",
     "output_type": "stream",
     "text": [
      "Gaussfit:\n",
      "A= 2046.78763472 , Stadartfehler= 46.0067155901\n",
      "mu= 69.3004169182 , Stadartfehler= 0.200048057456\n",
      "sig= 8.46423225508 , Stadartfehler= 0.168646304999\n",
      "Poissonfit:\n",
      "A_p= 2045.82795751 , Stadartfehler= 41.7812292139\n",
      "mu_p= 69.4161314801 , Stadartfehler= 0.179755444039\n"
     ]
    }
   ],
   "source": [
    "#Fitparameter werden zusammen mit den aus der beim fitten erhaltener Kovariazmatrix ausgerechneten Standardfehler angegeben \n",
    "print(\"Gaussfit:\")\n",
    "print(\"A=\",popt[0], \", Stadartfehler=\", np.sqrt(pcov[0][0]))\n",
    "print(\"mu=\",popt[1], \", Stadartfehler=\", np.sqrt(pcov[1][1]))\n",
    "print(\"sig=\",popt[2], \", Stadartfehler=\", np.sqrt(pcov[2][2]))\n",
    "print(\"Poissonfit:\")\n",
    "print(\"A_p=\",popt_p[0], \", Stadartfehler=\", np.sqrt(pcov_p[0][0]))\n",
    "print(\"mu_p=\",popt_p[1], \", Stadartfehler=\", np.sqrt(pcov_p[1][1]))\n"
   ]
  },
  {
   "cell_type": "code",
   "execution_count": 54,
   "metadata": {},
   "outputs": [
    {
     "name": "stdout",
     "output_type": "stream",
     "text": [
      "chi2_g= 233.558851304\n",
      "chi2_red_g 5.98868849497\n",
      "chi2_p= 198.389952553\n",
      "chi2_red_p 5.08692186034\n"
     ]
    }
   ],
   "source": [
    "#Hier werden Chi^2 Summen und reduzierte Chi^2 Summen ausgerechnet \n",
    "#Gauss:\n",
    "chi2_g=np.sum((gaussian(anzahl[7:-5], *popt)-haeufigkeit[7:-5])**2/fehler[7:-5])\n",
    "dof_g=len(anzahl[7:-5])-3 #dof: degrees of freedom, Freiheitsgrade\n",
    "chi2_red_g=chi2_g/dof_g\n",
    "print(\"chi2_g=\", chi2_g)\n",
    "print(\"chi2_red_g\",chi2_red_g)\n",
    "#Poisson\n",
    "chi2_p=np.sum((poisson(anzahl[7:-5], *popt_p)-haeufigkeit[7:-5])**2/fehler[7:-5])\n",
    "dof_p=len(anzahl[7:-5])-3 #dof: degrees of freedom, Freiheitsgrade\n",
    "chi2_red_p=chi2_p/dof_p\n",
    "print(\"chi2_p=\", chi2_p)\n",
    "print(\"chi2_red_p\",chi2_red_p)\n",
    "\n"
   ]
  },
  {
   "cell_type": "code",
   "execution_count": 52,
   "metadata": {},
   "outputs": [
    {
     "name": "stdout",
     "output_type": "stream",
     "text": [
      "Wahrscheinlichkeit Gauss= 0.0 %\n",
      "Wahrscheinlichkeit poisson= 0.0 %\n"
     ]
    }
   ],
   "source": [
    "#Hier wird die \"Fitwahrscheinlichkeit\" ausgerechnet\n",
    "from scipy.stats import chi2\n",
    "#Gauss\n",
    "prob_g=round(1-chi2.cdf(chi2_g,dof_g),2)*100\n",
    "#Poisson\n",
    "prob_p=round(1-chi2.cdf(chi2_p,dof_p),2)*100\n",
    "print(\"Wahrscheinlichkeit Gauss=\", prob_g,\"%\")\n",
    "print(\"Wahrscheinlichkeit poisson=\", prob_p,\"%\")"
   ]
  },
  {
   "cell_type": "code",
   "execution_count": null,
   "metadata": {
    "collapsed": true
   },
   "outputs": [],
   "source": []
  }
 ],
 "metadata": {
  "kernelspec": {
   "display_name": "Python 3",
   "language": "python",
   "name": "python3"
  },
  "language_info": {
   "codemirror_mode": {
    "name": "ipython",
    "version": 3
   },
   "file_extension": ".py",
   "mimetype": "text/x-python",
   "name": "python",
   "nbconvert_exporter": "python",
   "pygments_lexer": "ipython3",
   "version": "3.6.3"
  }
 },
 "nbformat": 4,
 "nbformat_minor": 1
}
