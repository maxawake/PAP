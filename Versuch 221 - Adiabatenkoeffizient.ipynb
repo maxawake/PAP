{
 "cells": [
  {
   "cell_type": "code",
   "execution_count": 20,
   "metadata": {},
   "outputs": [
    {
     "name": "stdout",
     "output_type": "stream",
     "text": [
      "1.4049799160454783 0.158088008603\n",
      "1.624079588564673 0.130254343412\n"
     ]
    }
   ],
   "source": [
    "%matplotlib inline\n",
    "import matplotlib.pyplot as plt\n",
    "import numpy as np\n",
    "\n",
    "#Luft\n",
    "T_L = (49.50 + 49.84 + 49.93)/3\n",
    "dT_L = np.sqrt((1/2)*((49.50-T_L)**2+(49.50-T_L)**2+(49.50-T_L)**2))\n",
    "V_L = 5370*10**-6\n",
    "dV_L = 5*10**-6\n",
    "m_L = 26.11*10**-3\n",
    "dm_L = 0.002*10**-3\n",
    "d_L = 15.95*10**-3\n",
    "dd_L = 0.02*10**-3\n",
    "p = 98370 + (m_L *9.81/(np.pi*(d_L/2)**2))\n",
    "dp = np.sqrt((100)**2+(9.81*(dm_L/(np.pi*(d_L/2)**2)))**2+(9.81*m_L*(np.pi*2*d_L*dd_L)/((np.pi*(d_L/2)**2)**2)**2))\n",
    "\n",
    "#Argon\n",
    "T_A = (47.15 + 46.87 + 46.93)/3\n",
    "dT_A = np.sqrt((1/2)*((47.15-T_A)**2+(46.87-T_A)**2+(46.93-T_A)**2))\n",
    "V_A = 5460 *10**-6\n",
    "dV_A = 5*10**-6\n",
    "m_A = 26.606*10**-3\n",
    "dm_A = 0.002*10**-3\n",
    "d_A = 15.97*10**-3\n",
    "dd_A = 0.05*10**-3\n",
    "p_A = 98370 + (m_A *9.81/(np.pi*(d_A/2)**2))\n",
    "dp_A = np.sqrt((100)**2+(9.81*(dm_A/(np.pi*(d_A/2)**2)))**2+(9.81*m_L*(np.pi*2*(d_A/2)*(dd_A/2))/((np.pi*(d_A/2)**2)**2)**2))\n",
    "\n",
    "\n",
    "k_L = 4*m_L*V_L/((d_L/2)**4*(T_L/50)**2*p)\n",
    "dk_L = k_L * np.sqrt((4*(dd_L/2)/(d_L/2))**2+(2*dT_L/T_L))\n",
    "print(k_L, dk_L)\n",
    "\n",
    "k_A = 4*m_A*V_A/((d_A/2)**4*(T_A/50)**2*p_A)\n",
    "dk_A = k_A * np.sqrt((4*(dd_A/2)/(d_A/2))**2+(2*dT_A/T_A))\n",
    "\n",
    "print(k_A, dk_A)"
   ]
  },
  {
   "cell_type": "code",
   "execution_count": 14,
   "metadata": {},
   "outputs": [
    {
     "name": "stdout",
     "output_type": "stream",
     "text": [
      "[ 1.24719101  1.26136364  1.27906977  1.27160494  1.2875    ]\n",
      "[ 0.02887739  0.02942459  0.03038908  0.0321395   0.03281176]\n",
      "1.26934587066 0.00627306568642 0.0307284635183\n"
     ]
    }
   ],
   "source": [
    "h1u = np.array([53.8,53.8,53.8,54.2,54.2])\n",
    "h1o = np.array([64.9,64.9,64.8,64.5,64.5])\n",
    "h3u = np.array([58.3,58.3,58.2,58.3,58.3])\n",
    "h3o = np.array([60.5,60.6,60.6,60.5,60.6])\n",
    "\n",
    "h1 = h1o - h1u\n",
    "h3 = h3o - h3u\n",
    "\n",
    "k = (h1/(h1 - h3))\n",
    "dk = (h1*0.1/(h1-h3)**2)*np.sqrt(1+(2-(h3/h1))**2)\n",
    "\n",
    "k2 = np.mean(h1/(h1 - h3))\n",
    "dk2 = np.std(k)/np.sqrt(5)\n",
    "print(k)\n",
    "print(dk)\n",
    "print(k2,dk2,np.mean(dk)/5)"
   ]
  },
  {
   "cell_type": "code",
   "execution_count": null,
   "metadata": {},
   "outputs": [],
   "source": []
  }
 ],
 "metadata": {
  "kernelspec": {
   "display_name": "Python 3",
   "language": "python",
   "name": "python3"
  },
  "language_info": {
   "codemirror_mode": {
    "name": "ipython",
    "version": 3
   },
   "file_extension": ".py",
   "mimetype": "text/x-python",
   "name": "python",
   "nbconvert_exporter": "python",
   "pygments_lexer": "ipython3",
   "version": "3.6.3"
  }
 },
 "nbformat": 4,
 "nbformat_minor": 2
}
