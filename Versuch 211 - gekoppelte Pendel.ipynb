{
 "cells": [
  {
   "cell_type": "code",
   "execution_count": 9,
   "metadata": {},
   "outputs": [
    {
     "name": "stdout",
     "output_type": "stream",
     "text": [
      "T= [ 1.63   1.625  1.63 ]\n",
      "dT= 0.0707106781187\n",
      "w= [ 3.85471491  3.86657557  3.85471491]\n",
      "dw= [ 0.16722056  0.16825119  0.16722056]\n",
      "T_a= [ 1.585  1.51   1.36 ]\n",
      "w_a= [ 3.96415477  4.16104987  4.6199892 ]\n",
      "dw_a= [ 0.17685052  0.19485474  0.24020777]\n"
     ]
    }
   ],
   "source": [
    "import numpy as np\n",
    "\n",
    "T_l = np.array([1.63,1.62,1.63])\n",
    "T_r = np.array([1.63,1.63,1.63])\n",
    "dT = np.sqrt(0.05**2+0.05**2)\n",
    "\n",
    "T = (T_l+T_r)/2\n",
    "\n",
    "w = 2 * np.pi / T\n",
    "dw = w *dT/T\n",
    "\n",
    "print(\"T=\",T)\n",
    "print(\"dT=\",dT)\n",
    "print(\"w=\",w)\n",
    "print(\"dw=\",dw)\n",
    "\n",
    "T_al = np.array([1.58,1.51,1.36])\n",
    "T_ar = np.array([1.59,1.51,1.36])\n",
    "\n",
    "T_a = (T_al+T_ar)/2\n",
    "\n",
    "w_a = 2 * np.pi / T_a\n",
    "dw_a = w_a *dT/T_a\n",
    "\n",
    "print(\"T_a=\",T_a)\n",
    "print(\"w_a=\",w_a)\n",
    "print(\"dw_a=\",dw_a)\n"
   ]
  },
  {
   "cell_type": "code",
   "execution_count": 14,
   "metadata": {},
   "outputs": [
    {
     "name": "stdout",
     "output_type": "stream",
     "text": [
      "T_n= [ 1.61   1.575  1.51 ]\n",
      "T_b= [ 120.32   43.35   16.29]\n",
      "w_n= [ 3.90259957  3.989324    4.16104987]\n",
      "dw_n= [ 0.17140091  0.17910337  0.19485474]\n",
      "w_b= [ 0.05222062  0.14494084  0.38570812]\n",
      "dw_b= [  3.06894584e-05   2.36421336e-04   1.67425923e-03]\n",
      "w_n_t= [ 3.90943484  4.01381272  4.23735205]\n",
      "dw_n_t= [ 0.12169513  0.12872144  0.14634077]\n",
      "w_b_t= [ 0.05471993  0.14723715  0.38263714]\n"
     ]
    }
   ],
   "source": [
    "nat_L = np.array([1.61,1.57,1.51])\n",
    "beat_L = 2*np.array([60.14,21.53,8.15])\n",
    "nat_R = np.array([1.61,1.58,1.51])\n",
    "beat_R = 2*np.array([60.18,21.82,8.14])\n",
    "\n",
    "T_n = (nat_L+nat_R)/2\n",
    "T_b = (beat_L+beat_R)/2\n",
    "\n",
    "print(\"T_n=\",T_n)\n",
    "print(\"T_b=\",T_b)\n",
    "\n",
    "w_n = 2*np.pi/T_n\n",
    "w_b = 2*np.pi/T_b\n",
    "\n",
    "dw_n = w_n*dT/T_n\n",
    "dw_b = w_b*dT/T_b\n",
    "\n",
    "print(\"w_n=\",w_n)\n",
    "print(\"dw_n=\",dw_n)\n",
    "\n",
    "print(\"w_b=\",w_b)\n",
    "print(\"dw_b=\",dw_b)\n",
    "\n",
    "\n",
    "w_n_t = (w+w_a)/2\n",
    "dw_n_t = 1/2*np.sqrt(dw**2+dw_a**2)\n",
    "print(\"w_n_t=\",w_n_t)\n",
    "print(\"dw_n_t=\",dw_n_t)\n",
    "\n",
    "w_b_t = (w_a-w)/2\n",
    "print(\"w_b_t=\",w_b_t)"
   ]
  },
  {
   "cell_type": "code",
   "execution_count": 18,
   "metadata": {},
   "outputs": [
    {
     "name": "stdout",
     "output_type": "stream",
     "text": [
      "[ 0.0287942   0.07905903  0.21823638]\n",
      "[ 0.00358353  0.01010766  0.0295553 ]\n"
     ]
    }
   ],
   "source": [
    "k = (w_a**2-w**2)/(2*w**2)\n",
    "print(k)\n",
    "dk = k*np.sqrt((2*dw_a/w_a)**2+(2*dw/w)**2)\n",
    "print(dk)"
   ]
  },
  {
   "cell_type": "code",
   "execution_count": 22,
   "metadata": {},
   "outputs": [
    {
     "name": "stdout",
     "output_type": "stream",
     "text": [
      "2.6220934774\n",
      "7.57917923997\n",
      "2.89050688135\n"
     ]
    }
   ],
   "source": [
    "k1 = k[1]/k[0]\n",
    "print(k1)\n",
    "k2 = k[2]/k[0]\n",
    "print(k2)\n",
    "k3 = k[2]/k[1]\n",
    "print(k3)"
   ]
  },
  {
   "cell_type": "code",
   "execution_count": 24,
   "metadata": {},
   "outputs": [
    {
     "name": "stdout",
     "output_type": "stream",
     "text": [
      "2.70655567118\n",
      "6.82726326743\n",
      "2.52249134948\n"
     ]
    }
   ],
   "source": [
    "l = np.array([15.5,25.5,40.5])\n",
    "l1 = l[1]**2/l[0]**2\n",
    "print(l1)\n",
    "l2 = l[2]**2/l[0]**2\n",
    "print(l2)\n",
    "l3 = l[2]**2/l[1]**2\n",
    "print(l3)"
   ]
  },
  {
   "cell_type": "code",
   "execution_count": null,
   "metadata": {},
   "outputs": [],
   "source": []
  }
 ],
 "metadata": {
  "kernelspec": {
   "display_name": "Python 3",
   "language": "python",
   "name": "python3"
  },
  "language_info": {
   "codemirror_mode": {
    "name": "ipython",
    "version": 3
   },
   "file_extension": ".py",
   "mimetype": "text/x-python",
   "name": "python",
   "nbconvert_exporter": "python",
   "pygments_lexer": "ipython3",
   "version": "3.6.3"
  }
 },
 "nbformat": 4,
 "nbformat_minor": 2
}
